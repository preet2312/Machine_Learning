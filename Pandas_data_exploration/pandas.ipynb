{
 "cells": [
  {
   "cell_type": "markdown",
   "metadata": {},
   "source": [
    "# Pandas - dataset exploration\n",
    "## "
   ]
  },
  {
   "cell_type": "markdown",
   "metadata": {},
   "source": [
    "### Let's import the dataset.\n",
    "#### Dataset Link: https://data.ontario.ca/dataset/ontario-covid-19-outbreaks-data"
   ]
  },
  {
   "cell_type": "code",
   "execution_count": 1,
   "metadata": {},
   "outputs": [],
   "source": [
    "import matplotlib.pyplot as plt\n",
    "import seaborn as sns\n",
    "\n",
    "import warnings\n",
    "warnings.filterwarnings('ignore')\n",
    "\n",
    "import pandas as pd\n",
    "df = pd.read_csv('ongoing_outbreaks_phu.csv')"
   ]
  },
  {
   "cell_type": "markdown",
   "metadata": {},
   "source": [
    "### \n",
    "### Check some of the data"
   ]
  },
  {
   "cell_type": "code",
   "execution_count": 2,
   "metadata": {},
   "outputs": [
    {
     "data": {
      "text/html": [
       "<div>\n",
       "<style scoped>\n",
       "    .dataframe tbody tr th:only-of-type {\n",
       "        vertical-align: middle;\n",
       "    }\n",
       "\n",
       "    .dataframe tbody tr th {\n",
       "        vertical-align: top;\n",
       "    }\n",
       "\n",
       "    .dataframe thead th {\n",
       "        text-align: right;\n",
       "    }\n",
       "</style>\n",
       "<table border=\"1\" class=\"dataframe\">\n",
       "  <thead>\n",
       "    <tr style=\"text-align: right;\">\n",
       "      <th></th>\n",
       "      <th>date</th>\n",
       "      <th>phu_name</th>\n",
       "      <th>phu_num</th>\n",
       "      <th>outbreak_group</th>\n",
       "      <th>number_ongoing_outbreaks</th>\n",
       "    </tr>\n",
       "  </thead>\n",
       "  <tbody>\n",
       "    <tr>\n",
       "      <th>0</th>\n",
       "      <td>2020-11-01</td>\n",
       "      <td>BRANT COUNTY</td>\n",
       "      <td>2227</td>\n",
       "      <td>4 Workplace</td>\n",
       "      <td>1</td>\n",
       "    </tr>\n",
       "    <tr>\n",
       "      <th>1</th>\n",
       "      <td>2020-11-01</td>\n",
       "      <td>BRANT COUNTY</td>\n",
       "      <td>2227</td>\n",
       "      <td>1 Congregate Care</td>\n",
       "      <td>2</td>\n",
       "    </tr>\n",
       "    <tr>\n",
       "      <th>2</th>\n",
       "      <td>2020-11-01</td>\n",
       "      <td>CHATHAM-KENT</td>\n",
       "      <td>2240</td>\n",
       "      <td>5 Recreational</td>\n",
       "      <td>1</td>\n",
       "    </tr>\n",
       "    <tr>\n",
       "      <th>3</th>\n",
       "      <td>2020-11-01</td>\n",
       "      <td>CHATHAM-KENT</td>\n",
       "      <td>2240</td>\n",
       "      <td>6 Other/Unknown</td>\n",
       "      <td>1</td>\n",
       "    </tr>\n",
       "    <tr>\n",
       "      <th>4</th>\n",
       "      <td>2020-11-01</td>\n",
       "      <td>CHATHAM-KENT</td>\n",
       "      <td>2240</td>\n",
       "      <td>4 Workplace</td>\n",
       "      <td>1</td>\n",
       "    </tr>\n",
       "  </tbody>\n",
       "</table>\n",
       "</div>"
      ],
      "text/plain": [
       "         date      phu_name  phu_num     outbreak_group  \\\n",
       "0  2020-11-01  BRANT COUNTY     2227        4 Workplace   \n",
       "1  2020-11-01  BRANT COUNTY     2227  1 Congregate Care   \n",
       "2  2020-11-01  CHATHAM-KENT     2240     5 Recreational   \n",
       "3  2020-11-01  CHATHAM-KENT     2240    6 Other/Unknown   \n",
       "4  2020-11-01  CHATHAM-KENT     2240        4 Workplace   \n",
       "\n",
       "   number_ongoing_outbreaks  \n",
       "0                         1  \n",
       "1                         2  \n",
       "2                         1  \n",
       "3                         1  \n",
       "4                         1  "
      ]
     },
     "execution_count": 2,
     "metadata": {},
     "output_type": "execute_result"
    }
   ],
   "source": [
    "df.head()"
   ]
  },
  {
   "cell_type": "markdown",
   "metadata": {},
   "source": [
    "### \n",
    "### Check the shape of the data"
   ]
  },
  {
   "cell_type": "code",
   "execution_count": 3,
   "metadata": {},
   "outputs": [
    {
     "data": {
      "text/plain": [
       "(25682, 5)"
      ]
     },
     "execution_count": 3,
     "metadata": {},
     "output_type": "execute_result"
    }
   ],
   "source": [
    "df.shape"
   ]
  },
  {
   "cell_type": "markdown",
   "metadata": {},
   "source": [
    "#### \n",
    "#### Check for any null values"
   ]
  },
  {
   "cell_type": "code",
   "execution_count": 4,
   "metadata": {},
   "outputs": [
    {
     "data": {
      "text/plain": [
       "date                        0\n",
       "phu_name                    0\n",
       "phu_num                     0\n",
       "outbreak_group              0\n",
       "number_ongoing_outbreaks    0\n",
       "dtype: int64"
      ]
     },
     "execution_count": 4,
     "metadata": {},
     "output_type": "execute_result"
    }
   ],
   "source": [
    "df.isnull().sum()"
   ]
  },
  {
   "cell_type": "markdown",
   "metadata": {},
   "source": [
    "#### We have no null values to takle with.."
   ]
  },
  {
   "cell_type": "markdown",
   "metadata": {},
   "source": [
    "## ---------------------------------------------------------------------------------------------\n",
    "## 1.) From which date to which date data is collected.?"
   ]
  },
  {
   "cell_type": "code",
   "execution_count": 5,
   "metadata": {},
   "outputs": [
    {
     "name": "stdout",
     "output_type": "stream",
     "text": [
      "Data stored from date:  2020-11-01\n",
      "To date: 2021-06-12\n"
     ]
    }
   ],
   "source": [
    "print(\"Data stored from date: \",min(df['date']))\n",
    "print(\"To date:\",max(df['date']))"
   ]
  },
  {
   "cell_type": "markdown",
   "metadata": {},
   "source": [
    "## -------------------------------------------------------------------------------------------------\n",
    "## 2.) On which date and in which city most number of outbreak occured on .?"
   ]
  },
  {
   "cell_type": "code",
   "execution_count": 6,
   "metadata": {},
   "outputs": [
    {
     "data": {
      "text/html": [
       "<div>\n",
       "<style scoped>\n",
       "    .dataframe tbody tr th:only-of-type {\n",
       "        vertical-align: middle;\n",
       "    }\n",
       "\n",
       "    .dataframe tbody tr th {\n",
       "        vertical-align: top;\n",
       "    }\n",
       "\n",
       "    .dataframe thead th {\n",
       "        text-align: right;\n",
       "    }\n",
       "</style>\n",
       "<table border=\"1\" class=\"dataframe\">\n",
       "  <thead>\n",
       "    <tr style=\"text-align: right;\">\n",
       "      <th></th>\n",
       "      <th>date</th>\n",
       "      <th>phu_name</th>\n",
       "      <th>phu_num</th>\n",
       "      <th>outbreak_group</th>\n",
       "      <th>number_ongoing_outbreaks</th>\n",
       "    </tr>\n",
       "  </thead>\n",
       "  <tbody>\n",
       "    <tr>\n",
       "      <th>19194</th>\n",
       "      <td>2021-04-14</td>\n",
       "      <td>TORONTO</td>\n",
       "      <td>3895</td>\n",
       "      <td>3 Education</td>\n",
       "      <td>123</td>\n",
       "    </tr>\n",
       "  </tbody>\n",
       "</table>\n",
       "</div>"
      ],
      "text/plain": [
       "             date phu_name  phu_num outbreak_group  number_ongoing_outbreaks\n",
       "19194  2021-04-14  TORONTO     3895    3 Education                       123"
      ]
     },
     "execution_count": 6,
     "metadata": {},
     "output_type": "execute_result"
    }
   ],
   "source": [
    "df[df['number_ongoing_outbreaks'] == df['number_ongoing_outbreaks'].max()]"
   ]
  },
  {
   "cell_type": "markdown",
   "metadata": {},
   "source": [
    "### We can see that in Toronto on date 2021-04-14 the highest number of outbreak i.e 123 occured."
   ]
  },
  {
   "cell_type": "markdown",
   "metadata": {},
   "source": [
    "### \n",
    "### Let's check the least number of outbreak list"
   ]
  },
  {
   "cell_type": "code",
   "execution_count": 7,
   "metadata": {},
   "outputs": [
    {
     "data": {
      "text/html": [
       "<div>\n",
       "<style scoped>\n",
       "    .dataframe tbody tr th:only-of-type {\n",
       "        vertical-align: middle;\n",
       "    }\n",
       "\n",
       "    .dataframe tbody tr th {\n",
       "        vertical-align: top;\n",
       "    }\n",
       "\n",
       "    .dataframe thead th {\n",
       "        text-align: right;\n",
       "    }\n",
       "</style>\n",
       "<table border=\"1\" class=\"dataframe\">\n",
       "  <thead>\n",
       "    <tr style=\"text-align: right;\">\n",
       "      <th></th>\n",
       "      <th>date</th>\n",
       "      <th>phu_name</th>\n",
       "      <th>phu_num</th>\n",
       "      <th>outbreak_group</th>\n",
       "      <th>number_ongoing_outbreaks</th>\n",
       "    </tr>\n",
       "  </thead>\n",
       "  <tbody>\n",
       "    <tr>\n",
       "      <th>0</th>\n",
       "      <td>2020-11-01</td>\n",
       "      <td>BRANT COUNTY</td>\n",
       "      <td>2227</td>\n",
       "      <td>4 Workplace</td>\n",
       "      <td>1</td>\n",
       "    </tr>\n",
       "    <tr>\n",
       "      <th>2</th>\n",
       "      <td>2020-11-01</td>\n",
       "      <td>CHATHAM-KENT</td>\n",
       "      <td>2240</td>\n",
       "      <td>5 Recreational</td>\n",
       "      <td>1</td>\n",
       "    </tr>\n",
       "    <tr>\n",
       "      <th>3</th>\n",
       "      <td>2020-11-01</td>\n",
       "      <td>CHATHAM-KENT</td>\n",
       "      <td>2240</td>\n",
       "      <td>6 Other/Unknown</td>\n",
       "      <td>1</td>\n",
       "    </tr>\n",
       "    <tr>\n",
       "      <th>4</th>\n",
       "      <td>2020-11-01</td>\n",
       "      <td>CHATHAM-KENT</td>\n",
       "      <td>2240</td>\n",
       "      <td>4 Workplace</td>\n",
       "      <td>1</td>\n",
       "    </tr>\n",
       "    <tr>\n",
       "      <th>5</th>\n",
       "      <td>2020-11-01</td>\n",
       "      <td>CITY OF HAMILTON</td>\n",
       "      <td>2237</td>\n",
       "      <td>3 Education</td>\n",
       "      <td>1</td>\n",
       "    </tr>\n",
       "    <tr>\n",
       "      <th>...</th>\n",
       "      <td>...</td>\n",
       "      <td>...</td>\n",
       "      <td>...</td>\n",
       "      <td>...</td>\n",
       "      <td>...</td>\n",
       "    </tr>\n",
       "    <tr>\n",
       "      <th>25673</th>\n",
       "      <td>2021-06-12</td>\n",
       "      <td>WELLINGTON-DUFFERIN-GUELPH</td>\n",
       "      <td>2266</td>\n",
       "      <td>2 Congregate Living</td>\n",
       "      <td>1</td>\n",
       "    </tr>\n",
       "    <tr>\n",
       "      <th>25674</th>\n",
       "      <td>2021-06-12</td>\n",
       "      <td>WINDSOR-ESSEX COUNTY</td>\n",
       "      <td>2268</td>\n",
       "      <td>5 Recreational</td>\n",
       "      <td>1</td>\n",
       "    </tr>\n",
       "    <tr>\n",
       "      <th>25676</th>\n",
       "      <td>2021-06-12</td>\n",
       "      <td>WINDSOR-ESSEX COUNTY</td>\n",
       "      <td>2268</td>\n",
       "      <td>3 Education</td>\n",
       "      <td>1</td>\n",
       "    </tr>\n",
       "    <tr>\n",
       "      <th>25677</th>\n",
       "      <td>2021-06-12</td>\n",
       "      <td>WINDSOR-ESSEX COUNTY</td>\n",
       "      <td>2268</td>\n",
       "      <td>2 Congregate Living</td>\n",
       "      <td>1</td>\n",
       "    </tr>\n",
       "    <tr>\n",
       "      <th>25681</th>\n",
       "      <td>2021-06-12</td>\n",
       "      <td>YORK REGION</td>\n",
       "      <td>2270</td>\n",
       "      <td>1 Congregate Care</td>\n",
       "      <td>1</td>\n",
       "    </tr>\n",
       "  </tbody>\n",
       "</table>\n",
       "<p>8705 rows × 5 columns</p>\n",
       "</div>"
      ],
      "text/plain": [
       "             date                    phu_name  phu_num       outbreak_group  \\\n",
       "0      2020-11-01                BRANT COUNTY     2227          4 Workplace   \n",
       "2      2020-11-01                CHATHAM-KENT     2240       5 Recreational   \n",
       "3      2020-11-01                CHATHAM-KENT     2240      6 Other/Unknown   \n",
       "4      2020-11-01                CHATHAM-KENT     2240          4 Workplace   \n",
       "5      2020-11-01            CITY OF HAMILTON     2237          3 Education   \n",
       "...           ...                         ...      ...                  ...   \n",
       "25673  2021-06-12  WELLINGTON-DUFFERIN-GUELPH     2266  2 Congregate Living   \n",
       "25674  2021-06-12        WINDSOR-ESSEX COUNTY     2268       5 Recreational   \n",
       "25676  2021-06-12        WINDSOR-ESSEX COUNTY     2268          3 Education   \n",
       "25677  2021-06-12        WINDSOR-ESSEX COUNTY     2268  2 Congregate Living   \n",
       "25681  2021-06-12                 YORK REGION     2270    1 Congregate Care   \n",
       "\n",
       "       number_ongoing_outbreaks  \n",
       "0                             1  \n",
       "2                             1  \n",
       "3                             1  \n",
       "4                             1  \n",
       "5                             1  \n",
       "...                         ...  \n",
       "25673                         1  \n",
       "25674                         1  \n",
       "25676                         1  \n",
       "25677                         1  \n",
       "25681                         1  \n",
       "\n",
       "[8705 rows x 5 columns]"
      ]
     },
     "execution_count": 7,
     "metadata": {},
     "output_type": "execute_result"
    }
   ],
   "source": [
    "df[df['number_ongoing_outbreaks'] == df['number_ongoing_outbreaks'].min()]"
   ]
  },
  {
   "cell_type": "markdown",
   "metadata": {},
   "source": [
    "### Most of the time Public Health Unit notes number of outbreak as 1."
   ]
  },
  {
   "cell_type": "markdown",
   "metadata": {},
   "source": [
    "## --------------------------------------------------------------------------------------------------\n",
    "## 3.) Which Outbreak group occured more time.?"
   ]
  },
  {
   "cell_type": "code",
   "execution_count": 8,
   "metadata": {},
   "outputs": [
    {
     "data": {
      "text/plain": [
       "1 Congregate Care      5692\n",
       "4 Workplace            5502\n",
       "2 Congregate Living    4294\n",
       "3 Education            4218\n",
       "5 Recreational         3901\n",
       "6 Other/Unknown        2075\n",
       "Name: outbreak_group, dtype: int64"
      ]
     },
     "execution_count": 8,
     "metadata": {},
     "output_type": "execute_result"
    }
   ],
   "source": [
    "df['outbreak_group'].value_counts(sort=True)"
   ]
  },
  {
   "cell_type": "code",
   "execution_count": 9,
   "metadata": {},
   "outputs": [
    {
     "data": {
      "text/plain": [
       "1 Congregate Care    5692\n",
       "Name: outbreak_group, dtype: int64"
      ]
     },
     "execution_count": 9,
     "metadata": {},
     "output_type": "execute_result"
    }
   ],
   "source": [
    "df['outbreak_group'].value_counts()[df['outbreak_group'].value_counts()==df['outbreak_group'].value_counts().max()]"
   ]
  },
  {
   "cell_type": "code",
   "execution_count": 10,
   "metadata": {},
   "outputs": [
    {
     "data": {
      "text/plain": [
       "6 Other/Unknown    2075\n",
       "Name: outbreak_group, dtype: int64"
      ]
     },
     "execution_count": 10,
     "metadata": {},
     "output_type": "execute_result"
    }
   ],
   "source": [
    "df['outbreak_group'].value_counts()[df['outbreak_group'].value_counts()==df['outbreak_group'].value_counts().min()]"
   ]
  },
  {
   "cell_type": "markdown",
   "metadata": {},
   "source": [
    "### We can see that, Congregate Care was the reason of the outbreak for the 5692 times, which is the highest.\n",
    "### And Other/Unknown group was the reason of the outbreak for the 2075mes, which is the lowest."
   ]
  },
  {
   "cell_type": "markdown",
   "metadata": {},
   "source": [
    "## -----------------------------------------------------------------------------------------------\n",
    "## 4.) Health unit name with number of times it was reported"
   ]
  },
  {
   "cell_type": "code",
   "execution_count": 11,
   "metadata": {},
   "outputs": [
    {
     "data": {
      "text/plain": [
       "PEEL REGION                                1307\n",
       "YORK REGION                                1280\n",
       "TORONTO                                    1266\n",
       "DURHAM REGION                              1180\n",
       "CITY OF HAMILTON                           1176\n",
       "MIDDLESEX-LONDON                           1157\n",
       "CITY OF OTTAWA                             1139\n",
       "HALTON REGION                              1122\n",
       "WATERLOO REGION                            1107\n",
       "NIAGARA REGION                             1095\n",
       "SIMCOE MUSKOKA DISTRICT                    1082\n",
       "WELLINGTON-DUFFERIN-GUELPH                 1038\n",
       "WINDSOR-ESSEX COUNTY                        946\n",
       "BRANT COUNTY                                802\n",
       "OXFORD ELGIN-ST.THOMAS                      766\n",
       "SUDBURY AND DISTRICT                        760\n",
       "EASTERN ONTARIO                             732\n",
       "THUNDER BAY DISTRICT                        696\n",
       "HALDIMAND-NORFOLK                           681\n",
       "KINGSTON, FRONTENAC, LENNOX & ADDINGTON     609\n",
       "LEEDS, GRENVILLE AND LANARK DISTRICT        598\n",
       "LAMBTON COUNTY                              578\n",
       "CHATHAM-KENT                                578\n",
       "HURON PERTH                                 492\n",
       "HALIBURTON, KAWARTHA, PINE RIDGE            479\n",
       "PETERBOROUGH COUNTY-CITY                    450\n",
       "ALGOMA DISTRICT                             388\n",
       "NORTHWESTERN                                388\n",
       "PORCUPINE                                   372\n",
       "HASTINGS & PRINCE EDWARD COUNTIES           370\n",
       "RENFREW COUNTY AND DISTRICT                 363\n",
       "GREY BRUCE                                  292\n",
       "TIMISKAMING                                 219\n",
       "NORTH BAY PARRY SOUND DISTRICT              174\n",
       "Name: phu_name, dtype: int64"
      ]
     },
     "execution_count": 11,
     "metadata": {},
     "output_type": "execute_result"
    }
   ],
   "source": [
    "df['phu_name'].value_counts(sort=True)"
   ]
  },
  {
   "cell_type": "markdown",
   "metadata": {},
   "source": [
    "### \n",
    "### Most reported Health unit"
   ]
  },
  {
   "cell_type": "code",
   "execution_count": 12,
   "metadata": {},
   "outputs": [
    {
     "data": {
      "text/plain": [
       "PEEL REGION    1307\n",
       "Name: phu_name, dtype: int64"
      ]
     },
     "execution_count": 12,
     "metadata": {},
     "output_type": "execute_result"
    }
   ],
   "source": [
    "df['phu_name'].value_counts()[df['phu_name'].value_counts()==df['phu_name'].value_counts().max()]"
   ]
  },
  {
   "cell_type": "markdown",
   "metadata": {},
   "source": [
    "### Peel Region health unit was highest affected and reported 1307 times."
   ]
  },
  {
   "cell_type": "markdown",
   "metadata": {},
   "source": [
    "### Least reported Health unit"
   ]
  },
  {
   "cell_type": "code",
   "execution_count": 13,
   "metadata": {},
   "outputs": [
    {
     "data": {
      "text/plain": [
       "NORTH BAY PARRY SOUND DISTRICT    174\n",
       "Name: phu_name, dtype: int64"
      ]
     },
     "execution_count": 13,
     "metadata": {},
     "output_type": "execute_result"
    }
   ],
   "source": [
    "df['phu_name'].value_counts()[df['phu_name'].value_counts()==df['phu_name'].value_counts().min()]"
   ]
  },
  {
   "cell_type": "markdown",
   "metadata": {},
   "source": [
    "### NORTH BAY PARRY SOUND DISTRICT health unit was least affected and reported 174 times."
   ]
  },
  {
   "cell_type": "code",
   "execution_count": 14,
   "metadata": {},
   "outputs": [
    {
     "data": {
      "image/png": "[encoded data removed]",
      "text/plain": [
       "<Figure size 1296x576 with 1 Axes>"
      ]
     },
     "metadata": {
      "needs_background": "light"
     },
     "output_type": "display_data"
    }
   ],
   "source": [
    "plt.figure(figsize=(18,8))\n",
    "\n",
    "sns.countplot(df['phu_name'])\n",
    "plt.xticks(rotation=90);"
   ]
  },
  {
   "cell_type": "markdown",
   "metadata": {},
   "source": [
    "### -------------------------------------------------------------------------------------------------------------\n",
    "## 5.) On which date the most reports were found.?"
   ]
  },
  {
   "cell_type": "code",
   "execution_count": 15,
   "metadata": {},
   "outputs": [
    {
     "name": "stdout",
     "output_type": "stream",
     "text": [
      "2021-01-12    137\n",
      "Name: date, dtype: int64\n"
     ]
    }
   ],
   "source": [
    "datecount = df['date'].value_counts()\n",
    "\n",
    "maxdate = datecount[df['date'].value_counts()==df['date'].value_counts().max()]\n",
    "print(maxdate)"
   ]
  },
  {
   "cell_type": "markdown",
   "metadata": {},
   "source": [
    "### On 2021-01-12 date, there were record 137 reports.\n",
    "#### "
   ]
  },
  {
   "cell_type": "code",
   "execution_count": 16,
   "metadata": {},
   "outputs": [
    {
     "name": "stdout",
     "output_type": "stream",
     "text": [
      "2021-06-12    70\n",
      "Name: date, dtype: int64\n"
     ]
    }
   ],
   "source": [
    "mindate = datecount[df['date'].value_counts()==df['date'].value_counts().min()]\n",
    "print(mindate)"
   ]
  },
  {
   "cell_type": "markdown",
   "metadata": {},
   "source": [
    "### On 2021-06-12 date, there were least 70 reports."
   ]
  },
  {
   "cell_type": "markdown",
   "metadata": {},
   "source": [
    "## ----------------------------------------------------------------------------------\n",
    "## 6.) Reports in every month"
   ]
  },
  {
   "cell_type": "code",
   "execution_count": 17,
   "metadata": {},
   "outputs": [
    {
     "name": "stdout",
     "output_type": "stream",
     "text": [
      "List of reports per month..\n",
      "\n",
      "1     3900\n",
      "2     2912\n",
      "3     3644\n",
      "4     3730\n",
      "5     3473\n",
      "6      968\n",
      "11    3179\n",
      "12    3876\n",
      "Name: date, dtype: int64\n"
     ]
    }
   ],
   "source": [
    "df['date']= pd.to_datetime(df['date']) \n",
    "\n",
    "print(\"List of reports per month..\\n\")\n",
    "print(df['date'].dt.month.value_counts(sort=False))"
   ]
  }
 ],
 "metadata": {
  "kernelspec": {
   "display_name": "Python 3",
   "language": "python",
   "name": "python3"
  },
  "language_info": {
   "codemirror_mode": {
    "name": "ipython",
    "version": 3
   },
   "file_extension": ".py",
   "mimetype": "text/x-python",
   "name": "python",
   "nbconvert_exporter": "python",
   "pygments_lexer": "ipython3",
   "version": "3.8.5"
  }
 },
 "nbformat": 4,
 "nbformat_minor": 4
}
