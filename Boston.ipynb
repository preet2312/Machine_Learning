{
 "cells": [
  {
   "cell_type": "markdown",
   "metadata": {},
   "source": [
    "## Import libraries and load Boston Dataset"
   ]
  },
  {
   "cell_type": "code",
   "execution_count": 73,
   "metadata": {},
   "outputs": [],
   "source": [
    "# Import all the libraries\n",
    "\n",
    "import pandas as pd\n",
    "import numpy as np\n",
    "import matplotlib.pyplot as plt\n",
    "\n",
    "import seaborn as sns\n",
    "\n",
    "# Import boston dataset from sklearn library\n",
    "from sklearn.datasets import load_boston\n",
    "boston_data = load_boston()"
   ]
  },
  {
   "cell_type": "markdown",
   "metadata": {},
   "source": [
    "## Check the keys of Boston Dataset"
   ]
  },
  {
   "cell_type": "code",
   "execution_count": 74,
   "metadata": {},
   "outputs": [
    {
     "data": {
      "text/plain": [
       "dict_keys(['data', 'target', 'feature_names', 'DESCR', 'filename'])"
      ]
     },
     "execution_count": 74,
     "metadata": {},
     "output_type": "execute_result"
    }
   ],
   "source": [
    "# Check the indexes of the dataset\n",
    "boston_data.keys()"
   ]
  },
  {
   "cell_type": "markdown",
   "metadata": {},
   "source": [
    "## Check some data of Boston Dataset"
   ]
  },
  {
   "cell_type": "code",
   "execution_count": 75,
   "metadata": {},
   "outputs": [
    {
     "data": {
      "text/plain": [
       "array([6.320e-03, 1.800e+01, 2.310e+00, 0.000e+00, 5.380e-01, 6.575e+00,\n",
       "       6.520e+01, 4.090e+00, 1.000e+00, 2.960e+02, 1.530e+01, 3.969e+02,\n",
       "       4.980e+00])"
      ]
     },
     "execution_count": 75,
     "metadata": {},
     "output_type": "execute_result"
    }
   ],
   "source": [
    "# Print data to understand\n",
    "boston_data.data[0]"
   ]
  },
  {
   "cell_type": "markdown",
   "metadata": {},
   "source": [
    "## Features of the Boston Dataset"
   ]
  },
  {
   "cell_type": "code",
   "execution_count": 76,
   "metadata": {},
   "outputs": [
    {
     "data": {
      "text/plain": [
       "array(['CRIM', 'ZN', 'INDUS', 'CHAS', 'NOX', 'RM', 'AGE', 'DIS', 'RAD',\n",
       "       'TAX', 'PTRATIO', 'B', 'LSTAT'], dtype='<U7')"
      ]
     },
     "execution_count": 76,
     "metadata": {},
     "output_type": "execute_result"
    }
   ],
   "source": [
    "# Print the features of the dataset\n",
    "boston_data.feature_names"
   ]
  },
  {
   "cell_type": "markdown",
   "metadata": {},
   "source": [
    "## Dataset with all features"
   ]
  },
  {
   "cell_type": "code",
   "execution_count": 77,
   "metadata": {},
   "outputs": [
    {
     "data": {
      "text/html": [
       "<div>\n",
       "<style scoped>\n",
       "    .dataframe tbody tr th:only-of-type {\n",
       "        vertical-align: middle;\n",
       "    }\n",
       "\n",
       "    .dataframe tbody tr th {\n",
       "        vertical-align: top;\n",
       "    }\n",
       "\n",
       "    .dataframe thead th {\n",
       "        text-align: right;\n",
       "    }\n",
       "</style>\n",
       "<table border=\"1\" class=\"dataframe\">\n",
       "  <thead>\n",
       "    <tr style=\"text-align: right;\">\n",
       "      <th></th>\n",
       "      <th>CRIM</th>\n",
       "      <th>ZN</th>\n",
       "      <th>INDUS</th>\n",
       "      <th>CHAS</th>\n",
       "      <th>NOX</th>\n",
       "      <th>RM</th>\n",
       "      <th>AGE</th>\n",
       "      <th>DIS</th>\n",
       "      <th>RAD</th>\n",
       "      <th>TAX</th>\n",
       "      <th>PTRATIO</th>\n",
       "      <th>B</th>\n",
       "      <th>LSTAT</th>\n",
       "    </tr>\n",
       "  </thead>\n",
       "  <tbody>\n",
       "    <tr>\n",
       "      <th>0</th>\n",
       "      <td>0.00632</td>\n",
       "      <td>18.0</td>\n",
       "      <td>2.31</td>\n",
       "      <td>0.0</td>\n",
       "      <td>0.538</td>\n",
       "      <td>6.575</td>\n",
       "      <td>65.2</td>\n",
       "      <td>4.0900</td>\n",
       "      <td>1.0</td>\n",
       "      <td>296.0</td>\n",
       "      <td>15.3</td>\n",
       "      <td>396.90</td>\n",
       "      <td>4.98</td>\n",
       "    </tr>\n",
       "    <tr>\n",
       "      <th>1</th>\n",
       "      <td>0.02731</td>\n",
       "      <td>0.0</td>\n",
       "      <td>7.07</td>\n",
       "      <td>0.0</td>\n",
       "      <td>0.469</td>\n",
       "      <td>6.421</td>\n",
       "      <td>78.9</td>\n",
       "      <td>4.9671</td>\n",
       "      <td>2.0</td>\n",
       "      <td>242.0</td>\n",
       "      <td>17.8</td>\n",
       "      <td>396.90</td>\n",
       "      <td>9.14</td>\n",
       "    </tr>\n",
       "    <tr>\n",
       "      <th>2</th>\n",
       "      <td>0.02729</td>\n",
       "      <td>0.0</td>\n",
       "      <td>7.07</td>\n",
       "      <td>0.0</td>\n",
       "      <td>0.469</td>\n",
       "      <td>7.185</td>\n",
       "      <td>61.1</td>\n",
       "      <td>4.9671</td>\n",
       "      <td>2.0</td>\n",
       "      <td>242.0</td>\n",
       "      <td>17.8</td>\n",
       "      <td>392.83</td>\n",
       "      <td>4.03</td>\n",
       "    </tr>\n",
       "    <tr>\n",
       "      <th>3</th>\n",
       "      <td>0.03237</td>\n",
       "      <td>0.0</td>\n",
       "      <td>2.18</td>\n",
       "      <td>0.0</td>\n",
       "      <td>0.458</td>\n",
       "      <td>6.998</td>\n",
       "      <td>45.8</td>\n",
       "      <td>6.0622</td>\n",
       "      <td>3.0</td>\n",
       "      <td>222.0</td>\n",
       "      <td>18.7</td>\n",
       "      <td>394.63</td>\n",
       "      <td>2.94</td>\n",
       "    </tr>\n",
       "    <tr>\n",
       "      <th>4</th>\n",
       "      <td>0.06905</td>\n",
       "      <td>0.0</td>\n",
       "      <td>2.18</td>\n",
       "      <td>0.0</td>\n",
       "      <td>0.458</td>\n",
       "      <td>7.147</td>\n",
       "      <td>54.2</td>\n",
       "      <td>6.0622</td>\n",
       "      <td>3.0</td>\n",
       "      <td>222.0</td>\n",
       "      <td>18.7</td>\n",
       "      <td>396.90</td>\n",
       "      <td>5.33</td>\n",
       "    </tr>\n",
       "  </tbody>\n",
       "</table>\n",
       "</div>"
      ],
      "text/plain": [
       "      CRIM    ZN  INDUS  CHAS    NOX     RM   AGE     DIS  RAD    TAX  \\\n",
       "0  0.00632  18.0   2.31   0.0  0.538  6.575  65.2  4.0900  1.0  296.0   \n",
       "1  0.02731   0.0   7.07   0.0  0.469  6.421  78.9  4.9671  2.0  242.0   \n",
       "2  0.02729   0.0   7.07   0.0  0.469  7.185  61.1  4.9671  2.0  242.0   \n",
       "3  0.03237   0.0   2.18   0.0  0.458  6.998  45.8  6.0622  3.0  222.0   \n",
       "4  0.06905   0.0   2.18   0.0  0.458  7.147  54.2  6.0622  3.0  222.0   \n",
       "\n",
       "   PTRATIO       B  LSTAT  \n",
       "0     15.3  396.90   4.98  \n",
       "1     17.8  396.90   9.14  \n",
       "2     17.8  392.83   4.03  \n",
       "3     18.7  394.63   2.94  \n",
       "4     18.7  396.90   5.33  "
      ]
     },
     "execution_count": 77,
     "metadata": {},
     "output_type": "execute_result"
    }
   ],
   "source": [
    "# Create a dataframe\n",
    "\n",
    "boston = pd.DataFrame(boston_data.data,columns=boston_data.feature_names)\n",
    "\n",
    "boston.head()"
   ]
  },
  {
   "cell_type": "markdown",
   "metadata": {},
   "source": [
    "## Updated Dataset with target column"
   ]
  },
  {
   "cell_type": "code",
   "execution_count": 78,
   "metadata": {},
   "outputs": [
    {
     "data": {
      "text/html": [
       "<div>\n",
       "<style scoped>\n",
       "    .dataframe tbody tr th:only-of-type {\n",
       "        vertical-align: middle;\n",
       "    }\n",
       "\n",
       "    .dataframe tbody tr th {\n",
       "        vertical-align: top;\n",
       "    }\n",
       "\n",
       "    .dataframe thead th {\n",
       "        text-align: right;\n",
       "    }\n",
       "</style>\n",
       "<table border=\"1\" class=\"dataframe\">\n",
       "  <thead>\n",
       "    <tr style=\"text-align: right;\">\n",
       "      <th></th>\n",
       "      <th>CRIM</th>\n",
       "      <th>ZN</th>\n",
       "      <th>INDUS</th>\n",
       "      <th>CHAS</th>\n",
       "      <th>NOX</th>\n",
       "      <th>RM</th>\n",
       "      <th>AGE</th>\n",
       "      <th>DIS</th>\n",
       "      <th>RAD</th>\n",
       "      <th>TAX</th>\n",
       "      <th>PTRATIO</th>\n",
       "      <th>B</th>\n",
       "      <th>LSTAT</th>\n",
       "      <th>target</th>\n",
       "    </tr>\n",
       "  </thead>\n",
       "  <tbody>\n",
       "    <tr>\n",
       "      <th>0</th>\n",
       "      <td>0.00632</td>\n",
       "      <td>18.0</td>\n",
       "      <td>2.31</td>\n",
       "      <td>0.0</td>\n",
       "      <td>0.538</td>\n",
       "      <td>6.575</td>\n",
       "      <td>65.2</td>\n",
       "      <td>4.0900</td>\n",
       "      <td>1.0</td>\n",
       "      <td>296.0</td>\n",
       "      <td>15.3</td>\n",
       "      <td>396.90</td>\n",
       "      <td>4.98</td>\n",
       "      <td>24.0</td>\n",
       "    </tr>\n",
       "    <tr>\n",
       "      <th>1</th>\n",
       "      <td>0.02731</td>\n",
       "      <td>0.0</td>\n",
       "      <td>7.07</td>\n",
       "      <td>0.0</td>\n",
       "      <td>0.469</td>\n",
       "      <td>6.421</td>\n",
       "      <td>78.9</td>\n",
       "      <td>4.9671</td>\n",
       "      <td>2.0</td>\n",
       "      <td>242.0</td>\n",
       "      <td>17.8</td>\n",
       "      <td>396.90</td>\n",
       "      <td>9.14</td>\n",
       "      <td>21.6</td>\n",
       "    </tr>\n",
       "    <tr>\n",
       "      <th>2</th>\n",
       "      <td>0.02729</td>\n",
       "      <td>0.0</td>\n",
       "      <td>7.07</td>\n",
       "      <td>0.0</td>\n",
       "      <td>0.469</td>\n",
       "      <td>7.185</td>\n",
       "      <td>61.1</td>\n",
       "      <td>4.9671</td>\n",
       "      <td>2.0</td>\n",
       "      <td>242.0</td>\n",
       "      <td>17.8</td>\n",
       "      <td>392.83</td>\n",
       "      <td>4.03</td>\n",
       "      <td>34.7</td>\n",
       "    </tr>\n",
       "    <tr>\n",
       "      <th>3</th>\n",
       "      <td>0.03237</td>\n",
       "      <td>0.0</td>\n",
       "      <td>2.18</td>\n",
       "      <td>0.0</td>\n",
       "      <td>0.458</td>\n",
       "      <td>6.998</td>\n",
       "      <td>45.8</td>\n",
       "      <td>6.0622</td>\n",
       "      <td>3.0</td>\n",
       "      <td>222.0</td>\n",
       "      <td>18.7</td>\n",
       "      <td>394.63</td>\n",
       "      <td>2.94</td>\n",
       "      <td>33.4</td>\n",
       "    </tr>\n",
       "    <tr>\n",
       "      <th>4</th>\n",
       "      <td>0.06905</td>\n",
       "      <td>0.0</td>\n",
       "      <td>2.18</td>\n",
       "      <td>0.0</td>\n",
       "      <td>0.458</td>\n",
       "      <td>7.147</td>\n",
       "      <td>54.2</td>\n",
       "      <td>6.0622</td>\n",
       "      <td>3.0</td>\n",
       "      <td>222.0</td>\n",
       "      <td>18.7</td>\n",
       "      <td>396.90</td>\n",
       "      <td>5.33</td>\n",
       "      <td>36.2</td>\n",
       "    </tr>\n",
       "  </tbody>\n",
       "</table>\n",
       "</div>"
      ],
      "text/plain": [
       "      CRIM    ZN  INDUS  CHAS    NOX     RM   AGE     DIS  RAD    TAX  \\\n",
       "0  0.00632  18.0   2.31   0.0  0.538  6.575  65.2  4.0900  1.0  296.0   \n",
       "1  0.02731   0.0   7.07   0.0  0.469  6.421  78.9  4.9671  2.0  242.0   \n",
       "2  0.02729   0.0   7.07   0.0  0.469  7.185  61.1  4.9671  2.0  242.0   \n",
       "3  0.03237   0.0   2.18   0.0  0.458  6.998  45.8  6.0622  3.0  222.0   \n",
       "4  0.06905   0.0   2.18   0.0  0.458  7.147  54.2  6.0622  3.0  222.0   \n",
       "\n",
       "   PTRATIO       B  LSTAT  target  \n",
       "0     15.3  396.90   4.98    24.0  \n",
       "1     17.8  396.90   9.14    21.6  \n",
       "2     17.8  392.83   4.03    34.7  \n",
       "3     18.7  394.63   2.94    33.4  \n",
       "4     18.7  396.90   5.33    36.2  "
      ]
     },
     "execution_count": 78,
     "metadata": {},
     "output_type": "execute_result"
    }
   ],
   "source": [
    "# Add target to the dataframe\n",
    "boston['target'] = boston_data.target\n",
    "\n",
    "boston.head()"
   ]
  },
  {
   "cell_type": "markdown",
   "metadata": {},
   "source": [
    "## Check for the Null values in data"
   ]
  },
  {
   "cell_type": "code",
   "execution_count": 79,
   "metadata": {},
   "outputs": [
    {
     "data": {
      "text/plain": [
       "CRIM       0\n",
       "ZN         0\n",
       "INDUS      0\n",
       "CHAS       0\n",
       "NOX        0\n",
       "RM         0\n",
       "AGE        0\n",
       "DIS        0\n",
       "RAD        0\n",
       "TAX        0\n",
       "PTRATIO    0\n",
       "B          0\n",
       "LSTAT      0\n",
       "target     0\n",
       "dtype: int64"
      ]
     },
     "execution_count": 79,
     "metadata": {},
     "output_type": "execute_result"
    }
   ],
   "source": [
    "# check if there are any null values in the data\n",
    "boston.isnull().sum()"
   ]
  },
  {
   "cell_type": "markdown",
   "metadata": {},
   "source": [
    "## Distplot of target column"
   ]
  },
  {
   "cell_type": "code",
   "execution_count": 80,
   "metadata": {
    "scrolled": false
   },
   "outputs": [
    {
     "data": {
      "text/plain": [
       "<AxesSubplot:xlabel='target', ylabel='Density'>"
      ]
     },
     "execution_count": 80,
     "metadata": {},
     "output_type": "execute_result"
    },
    {
     "data": {
      "image/png": "[encoded data removed]",
      "text/plain": [
       "<Figure size 1080x504 with 1 Axes>"
      ]
     },
     "metadata": {
      "needs_background": "light"
     },
     "output_type": "display_data"
    }
   ],
   "source": [
    "# plot the target column\n",
    "plt.figure(figsize=(15,7))\n",
    "sns.distplot(boston['target'])"
   ]
  },
  {
   "cell_type": "markdown",
   "metadata": {},
   "source": [
    "## Check for the Correlation between all the columns.\n",
    "### Find the most affected columns to target column"
   ]
  },
  {
   "cell_type": "code",
   "execution_count": 81,
   "metadata": {},
   "outputs": [
    {
     "data": {
      "text/plain": [
       "<AxesSubplot:>"
      ]
     },
     "execution_count": 81,
     "metadata": {},
     "output_type": "execute_result"
    },
    {
     "data": {
      "image/png": "[encoded data removed]",
      "text/plain": [
       "<Figure size 1080x504 with 2 Axes>"
      ]
     },
     "metadata": {
      "needs_background": "light"
     },
     "output_type": "display_data"
    }
   ],
   "source": [
    "# check for the correlation\n",
    "\n",
    "plt.figure(figsize=(15,7))\n",
    "correlation_matrix = boston.corr().round(2)\n",
    "# annot = True to print the values inside the square\n",
    "sns.heatmap(data=correlation_matrix, annot=True)\n",
    "\n",
    "# RM and LSTAT are highly correlated to the target column.. positivly and negatively.. \n",
    "# So, we choose those two columns for our regression."
   ]
  },
  {
   "cell_type": "markdown",
   "metadata": {},
   "source": [
    "## Show scatterplot of both LSTAT & RM with target"
   ]
  },
  {
   "cell_type": "code",
   "execution_count": 82,
   "metadata": {},
   "outputs": [
    {
     "data": {
      "text/plain": [
       "Text(0.5, 0, 'RM')"
      ]
     },
     "execution_count": 82,
     "metadata": {},
     "output_type": "execute_result"
    },
    {
     "data": {
      "image/png": "[encoded data removed]",
      "text/plain": [
       "<Figure size 1440x504 with 2 Axes>"
      ]
     },
     "metadata": {
      "needs_background": "light"
     },
     "output_type": "display_data"
    }
   ],
   "source": [
    "# Plot scatterplot of all the columns to target column\n",
    "\n",
    "fig = plt.figure(figsize=(20,7))\n",
    "\n",
    "ax1 = fig.add_subplot(121)\n",
    "ax2 = fig.add_subplot(122)\n",
    "\n",
    "ax1.scatter(boston['LSTAT'],boston['target'])\n",
    "ax1.set_xlabel('LSTAT')\n",
    "ax2.scatter(boston['RM'],boston['target'])\n",
    "ax2.set_xlabel('RM')\n",
    "\n",
    "# Price decreases as LSTAT increases\n",
    "# Price increases as RM decreases"
   ]
  },
  {
   "cell_type": "markdown",
   "metadata": {},
   "source": [
    "## Contact both the columns in new dataset to train the model."
   ]
  },
  {
   "cell_type": "code",
   "execution_count": 83,
   "metadata": {},
   "outputs": [
    {
     "data": {
      "text/html": [
       "<div>\n",
       "<style scoped>\n",
       "    .dataframe tbody tr th:only-of-type {\n",
       "        vertical-align: middle;\n",
       "    }\n",
       "\n",
       "    .dataframe tbody tr th {\n",
       "        vertical-align: top;\n",
       "    }\n",
       "\n",
       "    .dataframe thead th {\n",
       "        text-align: right;\n",
       "    }\n",
       "</style>\n",
       "<table border=\"1\" class=\"dataframe\">\n",
       "  <thead>\n",
       "    <tr style=\"text-align: right;\">\n",
       "      <th></th>\n",
       "      <th>LSTAT</th>\n",
       "      <th>RM</th>\n",
       "    </tr>\n",
       "  </thead>\n",
       "  <tbody>\n",
       "    <tr>\n",
       "      <th>0</th>\n",
       "      <td>4.98</td>\n",
       "      <td>6.575</td>\n",
       "    </tr>\n",
       "    <tr>\n",
       "      <th>1</th>\n",
       "      <td>9.14</td>\n",
       "      <td>6.421</td>\n",
       "    </tr>\n",
       "    <tr>\n",
       "      <th>2</th>\n",
       "      <td>4.03</td>\n",
       "      <td>7.185</td>\n",
       "    </tr>\n",
       "    <tr>\n",
       "      <th>3</th>\n",
       "      <td>2.94</td>\n",
       "      <td>6.998</td>\n",
       "    </tr>\n",
       "    <tr>\n",
       "      <th>4</th>\n",
       "      <td>5.33</td>\n",
       "      <td>7.147</td>\n",
       "    </tr>\n",
       "    <tr>\n",
       "      <th>...</th>\n",
       "      <td>...</td>\n",
       "      <td>...</td>\n",
       "    </tr>\n",
       "    <tr>\n",
       "      <th>501</th>\n",
       "      <td>9.67</td>\n",
       "      <td>6.593</td>\n",
       "    </tr>\n",
       "    <tr>\n",
       "      <th>502</th>\n",
       "      <td>9.08</td>\n",
       "      <td>6.120</td>\n",
       "    </tr>\n",
       "    <tr>\n",
       "      <th>503</th>\n",
       "      <td>5.64</td>\n",
       "      <td>6.976</td>\n",
       "    </tr>\n",
       "    <tr>\n",
       "      <th>504</th>\n",
       "      <td>6.48</td>\n",
       "      <td>6.794</td>\n",
       "    </tr>\n",
       "    <tr>\n",
       "      <th>505</th>\n",
       "      <td>7.88</td>\n",
       "      <td>6.030</td>\n",
       "    </tr>\n",
       "  </tbody>\n",
       "</table>\n",
       "<p>506 rows × 2 columns</p>\n",
       "</div>"
      ],
      "text/plain": [
       "     LSTAT     RM\n",
       "0     4.98  6.575\n",
       "1     9.14  6.421\n",
       "2     4.03  7.185\n",
       "3     2.94  6.998\n",
       "4     5.33  7.147\n",
       "..     ...    ...\n",
       "501   9.67  6.593\n",
       "502   9.08  6.120\n",
       "503   5.64  6.976\n",
       "504   6.48  6.794\n",
       "505   7.88  6.030\n",
       "\n",
       "[506 rows x 2 columns]"
      ]
     },
     "execution_count": 83,
     "metadata": {},
     "output_type": "execute_result"
    }
   ],
   "source": [
    "# contact both the columns and store it in new variable. We can do it in both the ways as shown below.\n",
    "X = pd.concat([boston['LSTAT'], boston['RM']], axis=1)\n",
    "#X = pd.DataFrame(np.c_[boston['LSTAT'], boston['RM']], columns = ['LSTAT','RM'])\n",
    "\n",
    "Y = boston['target']\n",
    "\n",
    "X"
   ]
  },
  {
   "cell_type": "markdown",
   "metadata": {},
   "source": [
    "## Split the whole dataset into train and test datasets."
   ]
  },
  {
   "cell_type": "code",
   "execution_count": 84,
   "metadata": {},
   "outputs": [
    {
     "name": "stdout",
     "output_type": "stream",
     "text": [
      "(404, 2)\n",
      "(102, 2)\n",
      "(404,)\n",
      "(102,)\n"
     ]
    }
   ],
   "source": [
    "from sklearn.model_selection import train_test_split\n",
    "\n",
    "X_train,X_test,Y_train,Y_test = train_test_split(X,Y,test_size=.2)\n",
    "\n",
    "print(X_train.shape)\n",
    "print(X_test.shape)\n",
    "print(Y_train.shape)\n",
    "print(Y_test.shape)"
   ]
  },
  {
   "cell_type": "markdown",
   "metadata": {},
   "source": [
    "## Import Linear Regression, Lasso & Ridge.\n",
    "## Train all the models with data"
   ]
  },
  {
   "cell_type": "code",
   "execution_count": 85,
   "metadata": {},
   "outputs": [],
   "source": [
    "# import all the libraries\n",
    "# using Linear, Lasso & Ridge regression\n",
    "\n",
    "from sklearn.linear_model import LinearRegression\n",
    "linear_regressor = LinearRegression()\n",
    "linear_model = linear_regressor.fit(X_train,Y_train)\n",
    "\n",
    "from sklearn.linear_model import Lasso\n",
    "lasso_regressor = Lasso()\n",
    "lasso_model = lasso_regressor.fit(X_train,Y_train)\n",
    "\n",
    "from sklearn.linear_model import Ridge\n",
    "ridge_regressor = Ridge()\n",
    "ridge_model = ridge_regressor.fit(X_train,Y_train)"
   ]
  },
  {
   "cell_type": "markdown",
   "metadata": {},
   "source": [
    "## Predicted data of all the algorithms.\n",
    "### Compare predicated data with real data"
   ]
  },
  {
   "cell_type": "code",
   "execution_count": 86,
   "metadata": {},
   "outputs": [
    {
     "name": "stdout",
     "output_type": "stream",
     "text": [
      "Linear : [28.03819049 21.56820411 13.49955915 25.98645034 25.04515699]\n",
      "Lasso  : [28.108896   21.95253209 12.97157237 22.02669405 25.40338932]\n",
      "Ridge  : [28.04058787 21.57340791 13.48960403 25.93061735 25.05089173]\n",
      "\n",
      "Real Data: \n",
      "\t [28.4, 29.6, 10.8, 17.8, 28.1]\n",
      "\n",
      "Accuracy of Linear model : 62 %\n",
      "Accuracy of Lasso model  : 59 %\n",
      "Accuracy of Ridge model  : 62 %\n"
     ]
    }
   ],
   "source": [
    "# Print all the predicted data and compare it with the real data\n",
    "\n",
    "linear_y_train_predict = linear_model.predict(X_train)\n",
    "lasso_y_train_predict = lasso_model.predict(X_train)\n",
    "ridge_y_train_predict = ridge_model.predict(X_train)\n",
    "\n",
    "print(\"Linear :\",linear_y_train_predict[0:5])\n",
    "print(\"Lasso  :\",lasso_y_train_predict[0:5])\n",
    "print(\"Ridge  :\",ridge_y_train_predict[0:5])\n",
    "\n",
    "print(\"\\nReal Data: \\n\\t\",list(Y_train[0:5]))\n",
    "print(\"\\nAccuracy of Linear model :\",round(100*linear_model.score(X_train,Y_train)),\"%\")\n",
    "print(\"Accuracy of Lasso model  :\",round(100*lasso_model.score(X_train,Y_train)),\"%\")\n",
    "print(\"Accuracy of Ridge model  :\",round(100*ridge_model.score(X_train,Y_train)),\"%\")"
   ]
  },
  {
   "cell_type": "markdown",
   "metadata": {},
   "source": [
    "## Import different Evaluation Metrics"
   ]
  },
  {
   "cell_type": "code",
   "execution_count": 87,
   "metadata": {},
   "outputs": [],
   "source": [
    "# Mean Absolute Error\n",
    "from sklearn.metrics import mean_absolute_error\n",
    "# Mean Square Error\n",
    "from sklearn.metrics import mean_squared_error\n",
    "# R2_SCORE\n",
    "from sklearn.metrics import r2_score"
   ]
  },
  {
   "cell_type": "markdown",
   "metadata": {},
   "source": [
    "## Check Errors with MAE, MSE, RMSE for \"Linear Regression\""
   ]
  },
  {
   "cell_type": "code",
   "execution_count": 88,
   "metadata": {},
   "outputs": [
    {
     "name": "stdout",
     "output_type": "stream",
     "text": [
      "********** Linear Algorithm ***********\n",
      "\n",
      "For Training Dataset:\n",
      "\tMAE:  4.123299010137906\n",
      "\tMSE:  33.28878171035856\n",
      "\tRMSE: 5.769643118110388\n",
      "\tR2_score: 0.6240533346449835\n",
      "\n",
      "For Test Dataset:\n",
      "\tMAE:  3.2522987894163355\n",
      "\tMSE:  19.70306791688764\n",
      "\tRMSE: 4.438813796149557\n",
      "\tR2_score: 0.7078119198987282\n"
     ]
    }
   ],
   "source": [
    "# For linear model\n",
    "\n",
    "# Training Dataset\n",
    "linear_mae = mean_absolute_error(Y_train,linear_y_train_predict)\n",
    "linear_mse = mean_squared_error(Y_train,linear_y_train_predict)\n",
    "linear_rmse = np.sqrt(linear_mse)\n",
    "linear_r2 = r2_score(Y_train,linear_y_train_predict)\n",
    "\n",
    "print(\"********** Linear Algorithm ***********\")\n",
    "print(\"\\nFor Training Dataset:\")\n",
    "print(\"\\tMAE: \",linear_mae)\n",
    "print(\"\\tMSE: \",linear_mse)\n",
    "print(\"\\tRMSE:\",linear_rmse)\n",
    "print(\"\\tR2_score:\",linear_r2)\n",
    "\n",
    "\n",
    "# Test Dataset\n",
    "linear_y_test_predict = linear_model.predict(X_test)\n",
    "\n",
    "p_linear_mae = mean_absolute_error(Y_test,linear_y_test_predict)\n",
    "p_linear_mse = mean_squared_error(Y_test,linear_y_test_predict)\n",
    "p_linear_rmse = np.sqrt(p_linear_mse)\n",
    "p_linear_r2 = r2_score(Y_test,linear_y_test_predict)\n",
    "\n",
    "print(\"\\nFor Test Dataset:\")\n",
    "print(\"\\tMAE: \",p_linear_mae)\n",
    "print(\"\\tMSE: \",p_linear_mse)\n",
    "print(\"\\tRMSE:\",p_linear_rmse)\n",
    "print(\"\\tR2_score:\",p_linear_r2)"
   ]
  },
  {
   "cell_type": "markdown",
   "metadata": {},
   "source": [
    "## Check Errors with MAE, MSE, RMSE for \"Lasso\""
   ]
  },
  {
   "cell_type": "code",
   "execution_count": 89,
   "metadata": {},
   "outputs": [
    {
     "name": "stdout",
     "output_type": "stream",
     "text": [
      "********** Lasso Algorithm ***********\n",
      "\n",
      "For Training Dataset: \n",
      "\tMAE:  4.410837166922177\n",
      "\tMSE:  36.12867777496837\n",
      "\tRMSE: 6.010713582842587\n",
      "\tR2_score: 0.5919809847243895\n",
      "\n",
      "For Test Dataset: \n",
      "\tMAE:  3.3951750715782656\n",
      "\tMSE:  20.344918492479582\n",
      "\tRMSE: 4.51053416930629\n",
      "\tR2_score: 0.6982935500598177 :\n"
     ]
    }
   ],
   "source": [
    "# For Lasso Model\n",
    "\n",
    "# Training Dataset\n",
    "lasso_mae = mean_absolute_error(Y_train,lasso_y_train_predict)\n",
    "lasso_mse = mean_squared_error(Y_train,lasso_y_train_predict)\n",
    "lasso_rmse = np.sqrt(lasso_mse)\n",
    "lasso_r2 = r2_score(Y_train,lasso_y_train_predict)\n",
    "\n",
    "print(\"********** Lasso Algorithm ***********\")\n",
    "print(\"\\nFor Training Dataset: \")\n",
    "print(\"\\tMAE: \",lasso_mae)\n",
    "print(\"\\tMSE: \",lasso_mse)\n",
    "print(\"\\tRMSE:\",lasso_rmse)\n",
    "print(\"\\tR2_score:\",lasso_r2)\n",
    "\n",
    "\n",
    "# Test Dataset\n",
    "lasso_y_test_predict = lasso_model.predict(X_test)\n",
    "\n",
    "p_lasso_mae = mean_absolute_error(Y_test,lasso_y_test_predict)\n",
    "p_lasso_mse = mean_squared_error(Y_test,lasso_y_test_predict)\n",
    "p_lasso_rmse = np.sqrt(p_lasso_mse)\n",
    "p_lasso_r2 = r2_score(Y_test,lasso_y_test_predict)\n",
    "\n",
    "print(\"\\nFor Test Dataset: \")\n",
    "print(\"\\tMAE: \",p_lasso_mae)\n",
    "print(\"\\tMSE: \",p_lasso_mse)\n",
    "print(\"\\tRMSE:\",p_lasso_rmse)\n",
    "print(\"\\tR2_score:\",p_lasso_r2,\":\")"
   ]
  },
  {
   "cell_type": "markdown",
   "metadata": {},
   "source": [
    "## Check Errors with MAE, MSE, RMSE for \"Ridge\""
   ]
  },
  {
   "cell_type": "code",
   "execution_count": 90,
   "metadata": {},
   "outputs": [
    {
     "name": "stdout",
     "output_type": "stream",
     "text": [
      "********** Ridge Algorithm ***********\n",
      "\n",
      "For Training Dataset:\n",
      "\tMAE:  4.1260991938227765\n",
      "\tMSE:  33.289323216103824\n",
      "\tRMSE: 5.7696900450634105\n",
      "\tR2_score: 0.6240472191529547\n",
      "\n",
      "For Test Dataset:\n",
      "\tMAE:  3.251688009066385\n",
      "\tMSE:  19.673896016380464\n",
      "\tRMSE: 4.4355265771248025\n",
      "\tR2_score 0.7082445267210795\n"
     ]
    }
   ],
   "source": [
    "# For Ridge model\n",
    "\n",
    "# Training Dataset\n",
    "ridge_mae = mean_absolute_error(Y_train,ridge_y_train_predict)\n",
    "ridge_mse = mean_squared_error(Y_train,ridge_y_train_predict)\n",
    "ridge_rmse = np.sqrt(ridge_mse)\n",
    "ridge_r2 = r2_score(Y_train,ridge_y_train_predict)\n",
    "\n",
    "print(\"********** Ridge Algorithm ***********\")\n",
    "print(\"\\nFor Training Dataset:\")\n",
    "print(\"\\tMAE: \",ridge_mae)\n",
    "print(\"\\tMSE: \",ridge_mse)\n",
    "print(\"\\tRMSE:\",ridge_rmse)\n",
    "print(\"\\tR2_score:\",ridge_r2)\n",
    "\n",
    "\n",
    "# Test Dataset\n",
    "ridge_y_test_predict = ridge_model.predict(X_test)\n",
    "\n",
    "p_ridge_mae = mean_absolute_error(Y_test,ridge_y_test_predict)\n",
    "p_ridge_mse = mean_squared_error(Y_test,ridge_y_test_predict)\n",
    "p_ridge_rmse = np.sqrt(p_ridge_mse)\n",
    "p_ridge_r2 = r2_score(Y_test,ridge_y_test_predict)\n",
    "\n",
    "print(\"\\nFor Test Dataset:\")\n",
    "print(\"\\tMAE: \",p_ridge_mae)\n",
    "print(\"\\tMSE: \",p_ridge_mse)\n",
    "print(\"\\tRMSE:\",p_ridge_rmse)\n",
    "print(\"\\tR2_score\",p_ridge_r2)"
   ]
  },
  {
   "cell_type": "markdown",
   "metadata": {},
   "source": [
    "## Comparison between Linear, Lasso & Ridge with MAE, MSE, RMSE, R2_score\n",
    "## Training Set"
   ]
  },
  {
   "cell_type": "code",
   "execution_count": 91,
   "metadata": {},
   "outputs": [
    {
     "name": "stdout",
     "output_type": "stream",
     "text": [
      "Training Dataset:\n"
     ]
    },
    {
     "data": {
      "text/html": [
       "<div>\n",
       "<style scoped>\n",
       "    .dataframe tbody tr th:only-of-type {\n",
       "        vertical-align: middle;\n",
       "    }\n",
       "\n",
       "    .dataframe tbody tr th {\n",
       "        vertical-align: top;\n",
       "    }\n",
       "\n",
       "    .dataframe thead th {\n",
       "        text-align: right;\n",
       "    }\n",
       "</style>\n",
       "<table border=\"1\" class=\"dataframe\">\n",
       "  <thead>\n",
       "    <tr style=\"text-align: right;\">\n",
       "      <th></th>\n",
       "      <th>MAE</th>\n",
       "      <th>MSE</th>\n",
       "      <th>RMSE</th>\n",
       "      <th>R2_SCORE</th>\n",
       "    </tr>\n",
       "  </thead>\n",
       "  <tbody>\n",
       "    <tr>\n",
       "      <th>Linear</th>\n",
       "      <td>4.123299</td>\n",
       "      <td>33.288782</td>\n",
       "      <td>5.769643</td>\n",
       "      <td>0.624053</td>\n",
       "    </tr>\n",
       "    <tr>\n",
       "      <th>Lasso</th>\n",
       "      <td>4.410837</td>\n",
       "      <td>36.128678</td>\n",
       "      <td>6.010714</td>\n",
       "      <td>0.591981</td>\n",
       "    </tr>\n",
       "    <tr>\n",
       "      <th>Ridge</th>\n",
       "      <td>4.126099</td>\n",
       "      <td>33.289323</td>\n",
       "      <td>5.769690</td>\n",
       "      <td>0.624047</td>\n",
       "    </tr>\n",
       "  </tbody>\n",
       "</table>\n",
       "</div>"
      ],
      "text/plain": [
       "             MAE        MSE      RMSE  R2_SCORE\n",
       "Linear  4.123299  33.288782  5.769643  0.624053\n",
       "Lasso   4.410837  36.128678  6.010714  0.591981\n",
       "Ridge   4.126099  33.289323  5.769690  0.624047"
      ]
     },
     "execution_count": 91,
     "metadata": {},
     "output_type": "execute_result"
    }
   ],
   "source": [
    "display_training = pd.DataFrame([[linear_mae,linear_mse,linear_rmse,linear_r2],[lasso_mae,lasso_mse,lasso_rmse,lasso_r2],[ridge_mae,ridge_mse,ridge_rmse,ridge_r2]],index=['Linear','Lasso','Ridge'],columns=['MAE','MSE','RMSE','R2_SCORE'] )\n",
    "\n",
    "print(\"Training Dataset:\")\n",
    "\n",
    "display_training\n"
   ]
  },
  {
   "cell_type": "markdown",
   "metadata": {},
   "source": [
    "**As we can see in the above dataset.  MAE is having least value in all three models.**\n",
    "\n",
    "**Linear regression and Ridge have almost same accuracy or r2_score.**"
   ]
  },
  {
   "cell_type": "markdown",
   "metadata": {},
   "source": [
    "## Comparison between Linear, Lasso & Ridge with MAE, MSE, RMSE, R2_score\n",
    "## Test Set"
   ]
  },
  {
   "cell_type": "code",
   "execution_count": 92,
   "metadata": {},
   "outputs": [
    {
     "name": "stdout",
     "output_type": "stream",
     "text": [
      "Test Dataset:\n"
     ]
    },
    {
     "data": {
      "text/html": [
       "<div>\n",
       "<style scoped>\n",
       "    .dataframe tbody tr th:only-of-type {\n",
       "        vertical-align: middle;\n",
       "    }\n",
       "\n",
       "    .dataframe tbody tr th {\n",
       "        vertical-align: top;\n",
       "    }\n",
       "\n",
       "    .dataframe thead th {\n",
       "        text-align: right;\n",
       "    }\n",
       "</style>\n",
       "<table border=\"1\" class=\"dataframe\">\n",
       "  <thead>\n",
       "    <tr style=\"text-align: right;\">\n",
       "      <th></th>\n",
       "      <th>MAE</th>\n",
       "      <th>MSE</th>\n",
       "      <th>RMSE</th>\n",
       "      <th>R2_SCORE</th>\n",
       "    </tr>\n",
       "  </thead>\n",
       "  <tbody>\n",
       "    <tr>\n",
       "      <th>Linear</th>\n",
       "      <td>3.252299</td>\n",
       "      <td>19.703068</td>\n",
       "      <td>4.438814</td>\n",
       "      <td>0.707812</td>\n",
       "    </tr>\n",
       "    <tr>\n",
       "      <th>Lasso</th>\n",
       "      <td>3.395175</td>\n",
       "      <td>20.344918</td>\n",
       "      <td>4.510534</td>\n",
       "      <td>0.698294</td>\n",
       "    </tr>\n",
       "    <tr>\n",
       "      <th>Ridge</th>\n",
       "      <td>3.251688</td>\n",
       "      <td>19.673896</td>\n",
       "      <td>4.435527</td>\n",
       "      <td>0.708245</td>\n",
       "    </tr>\n",
       "  </tbody>\n",
       "</table>\n",
       "</div>"
      ],
      "text/plain": [
       "             MAE        MSE      RMSE  R2_SCORE\n",
       "Linear  3.252299  19.703068  4.438814  0.707812\n",
       "Lasso   3.395175  20.344918  4.510534  0.698294\n",
       "Ridge   3.251688  19.673896  4.435527  0.708245"
      ]
     },
     "execution_count": 92,
     "metadata": {},
     "output_type": "execute_result"
    }
   ],
   "source": [
    "display_test = pd.DataFrame([[p_linear_mae,p_linear_mse,p_linear_rmse,p_linear_r2],[p_lasso_mae,p_lasso_mse,p_lasso_rmse,p_lasso_r2],[p_ridge_mae,p_ridge_mse,p_ridge_rmse,p_ridge_r2]],index=['Linear','Lasso','Ridge'],columns=['MAE','MSE','RMSE','R2_SCORE'] )\n",
    "\n",
    "print(\"Test Dataset:\")\n",
    "\n",
    "display_test"
   ]
  },
  {
   "cell_type": "markdown",
   "metadata": {},
   "source": [
    "**As we can see in the above dataset.  MAE is having least value in all three regression models.**\n",
    "\n",
    "**Linear regression and Ridge regression have almost same accuracy or r2_score.**"
   ]
  },
  {
   "cell_type": "markdown",
   "metadata": {},
   "source": [
    "# Conclusion:\n",
    "\n",
    "### Thus we can say that, Linear Regression algorithm has less error than Lasso and Ridge algorithms.\n",
    "### So, Linear Regression Algorithm is more suitable model to apply on Boston housing dataset."
   ]
  }
 ],
 "metadata": {
  "kernelspec": {
   "display_name": "Python 3",
   "language": "python",
   "name": "python3"
  },
  "language_info": {
   "codemirror_mode": {
    "name": "ipython",
    "version": 3
   },
   "file_extension": ".py",
   "mimetype": "text/x-python",
   "name": "python",
   "nbconvert_exporter": "python",
   "pygments_lexer": "ipython3",
   "version": "3.8.5"
  }
 },
 "nbformat": 4,
 "nbformat_minor": 4
}
